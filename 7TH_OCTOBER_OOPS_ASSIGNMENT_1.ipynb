{
 "cells": [
  {
   "cell_type": "markdown",
   "id": "988eed90",
   "metadata": {},
   "source": [
    "### Problem 1: Bank Account Create a class representing a bank account with attributes like account number, account holder name and balance. Implement methods to deposit and withdraw money from the account."
   ]
  },
  {
   "cell_type": "code",
   "execution_count": 5,
   "id": "776aa75c",
   "metadata": {},
   "outputs": [],
   "source": [
    "class bank_account:\n",
    "    \n",
    "    def __init__(self,account_number,name,balance):\n",
    "        self.account_number = account_number\n",
    "        self.account_holder_name = name\n",
    "        self.account_balance = balance\n",
    "        \n",
    "    def deposit(self, amount):\n",
    "        self.account_balance = self.account_balance + amount\n",
    "        print('The amount after deposit is', self.account_balance)\n",
    "        \n",
    "    def withdraw(self,amount):\n",
    "        if self.account_balance >= 100:\n",
    "            self.account_balance = self.account_balance - amount\n",
    "        else:\n",
    "            print('amount is not available for withdrawing')\n",
    "            \n",
    "        print('The amount remmaining after withdrawl is', self.account_balance)\n",
    "        \n",
    "        \n",
    "        "
   ]
  },
  {
   "cell_type": "code",
   "execution_count": 7,
   "id": "0fe94d2b",
   "metadata": {},
   "outputs": [],
   "source": [
    "obj_1 = bank_account(1001,'riya',50)"
   ]
  },
  {
   "cell_type": "code",
   "execution_count": 8,
   "id": "ec87e9f0",
   "metadata": {},
   "outputs": [
    {
     "name": "stdout",
     "output_type": "stream",
     "text": [
      "The amount after deposit is 60\n"
     ]
    }
   ],
   "source": [
    "obj_1.deposit(10)"
   ]
  },
  {
   "cell_type": "code",
   "execution_count": 9,
   "id": "36bbe9ec",
   "metadata": {},
   "outputs": [
    {
     "name": "stdout",
     "output_type": "stream",
     "text": [
      "amount is not available for withdrawing\n",
      "The amount remmaining after withdrawl is 60\n"
     ]
    }
   ],
   "source": [
    "obj_1.withdraw(5)"
   ]
  },
  {
   "cell_type": "markdown",
   "id": "a0ebe356",
   "metadata": {},
   "source": [
    "## Problem 2: Employee Management Create a class representing an employee with attributes like employee ID, name, and salary. Implement methods to calculate the yearly bonus and display employee details."
   ]
  },
  {
   "cell_type": "code",
   "execution_count": 103,
   "id": "5badac7a",
   "metadata": {},
   "outputs": [],
   "source": [
    "class employee:\n",
    "    \n",
    "    def __init__(self,ID,name,salary):\n",
    "        self.employee_id = ID\n",
    "        self.employee_name = name\n",
    "        self.employee_salary = salary\n",
    "        \n",
    "    def employee_bonus(self,hours_worked):\n",
    "        overtime = 0\n",
    "        if hours_worked > 50:\n",
    "            overtime = hours_worked - 50\n",
    "        self.employee_salary = self.employee_salary + (overtime*(self.employee_salary/50))\n",
    "        print(self.employee_salary)\n",
    "        \n",
    "    def employee_details(self):\n",
    "        print('The employee details is as follows', self.employee_id, self.employee_name, self.employee_salary)\n",
    "        \n",
    "        "
   ]
  },
  {
   "cell_type": "code",
   "execution_count": 105,
   "id": "3119f67f",
   "metadata": {},
   "outputs": [
    {
     "name": "stdout",
     "output_type": "stream",
     "text": [
      "60000.0\n",
      "The employee details is as follows 201 kiran 60000.0\n"
     ]
    }
   ],
   "source": [
    "emp_1 = employee(201,'kiran',50000)\n",
    "emp_1.employee_bonus(60)\n",
    "emp_1.employee_details()"
   ]
  },
  {
   "cell_type": "markdown",
   "id": "8eb88e32",
   "metadata": {},
   "source": [
    "## Problem 3: Vehicle Rental Create a class representing a vehicle rental system. Implement methods to rent a vehicle, return a vehicle, and display available vehicles"
   ]
  },
  {
   "cell_type": "code",
   "execution_count": 119,
   "id": "4291d916",
   "metadata": {},
   "outputs": [],
   "source": [
    "class Vehicle_renting_system:\n",
    "    \n",
    "    def __init__(self,vehicle_1,vehicle_2,vehicle_3,vehicle_4,vehicle_5):\n",
    "        self.vehicle_1 = vehicle_1\n",
    "        self.vehicle_2 = vehicle_2\n",
    "        self.vehicle_3 = vehicle_3\n",
    "        self.vehicle_4 = vehicle_4\n",
    "        self.vehicle_5 = vehicle_5\n",
    "        \n",
    "    def available_vehicle(self):\n",
    "        print('The vehicles availbale for rent are :', self.vehicle_1, self.vehicle_2, self.vehicle_3, self.vehicle_4, self.vehicle_5)\n",
    "        \n",
    "    def rent_available_vehicle(self):\n",
    "        vehicle_list = ['car', 'bicycle', 'bus', 'bike', 'mini_bus']\n",
    "        rent_price = {'car':'50', 'bicycle':'20', 'bus':'100','bike':'40','mini_bus':'80'}\n",
    "        required_vehicle = input('Enter a vehicle you want to rent : ')\n",
    "        if required_vehicle in vehicle_list:\n",
    "            print('Vehicle is avialable for rent')\n",
    "            print('The price for rental is : ', rent_price)     \n",
    "        else:\n",
    "            print('Vehicle is not avialable for rent')\n",
    "            \n",
    "    def return_vehicle(self):\n",
    "        amount_paid = input('enter if amount is paid or not: ')\n",
    "        if amount_paid == 'paid':\n",
    "            print('You can return the vehicle since price for renting service is paid')\n",
    "        else:\n",
    "            print('Please pay the rental price of vehicle before returning it')\n",
    "            \n",
    "        "
   ]
  },
  {
   "cell_type": "code",
   "execution_count": 120,
   "id": "7f0efd9d",
   "metadata": {},
   "outputs": [],
   "source": [
    "obj_1 = Vehicle_renting_system('car','bike','bicycle','mini_bus','bus')"
   ]
  },
  {
   "cell_type": "code",
   "execution_count": 121,
   "id": "b26c8388",
   "metadata": {},
   "outputs": [
    {
     "name": "stdout",
     "output_type": "stream",
     "text": [
      "The vehicles availbale for rent are : car bike bicycle mini_bus bus\n"
     ]
    }
   ],
   "source": [
    "obj_1.available_vehicle()"
   ]
  },
  {
   "cell_type": "code",
   "execution_count": 122,
   "id": "87786af1",
   "metadata": {},
   "outputs": [
    {
     "name": "stdout",
     "output_type": "stream",
     "text": [
      "Enter a vehicle you want to rent : mini_bus\n",
      "Vehicle is avialable for rent\n",
      "The price for rental is :  {'car': '50', 'bicycle': '20', 'bus': '100', 'bike': '40', 'mini_bus': '80'}\n"
     ]
    }
   ],
   "source": [
    "obj_1.rent_available_vehicle()\n"
   ]
  },
  {
   "cell_type": "code",
   "execution_count": 123,
   "id": "70c1d858",
   "metadata": {},
   "outputs": [
    {
     "name": "stdout",
     "output_type": "stream",
     "text": [
      "enter if amount is paid or not: paid\n",
      "You can return the vehicle since price for renting service is paid\n"
     ]
    }
   ],
   "source": [
    "obj_1.return_vehicle()"
   ]
  },
  {
   "cell_type": "code",
   "execution_count": null,
   "id": "bad52b42",
   "metadata": {},
   "outputs": [],
   "source": []
  },
  {
   "cell_type": "markdown",
   "id": "34996e16",
   "metadata": {},
   "source": [
    "## Problem 4: Library Catalog Create classes representing a library and a book. Implement methods to add books to the library, borrow books, and display available books."
   ]
  },
  {
   "cell_type": "code",
   "execution_count": 357,
   "id": "2fb8223e",
   "metadata": {},
   "outputs": [],
   "source": [
    "class Library:\n",
    "    def __init__(self):\n",
    "        self._books = []\n",
    "\n",
    "    def add_book(self, new_book_1, new_book_2, new_book_3):\n",
    "        self._books.append(new_book_1)\n",
    "        self._books.append(new_book_2)\n",
    "        self._books.append(new_book_3)\n",
    "\n",
    "    def display_books(self):\n",
    "        if self._books:  # if list of books is not empty\n",
    "            print(\"The books we have made available in our library are:\\n\")\n",
    "            for book in self._books:\n",
    "                print(book)\n",
    "        else:\n",
    "            print(\"Sorry, we have no books available in the library at the moment\")\n",
    "\n",
    "    def lend_book(self, requested_book):\n",
    "        if requested_book in self._books:\n",
    "            print(\"You have now borrowed \\\"%s\\\" \" % requested_book)\n",
    "            self._books.remove(requested_book)\n",
    "        else:\n",
    "            print(\"Sorry, \\\"%s\\\" is not there in our library at the moment\" % requested_book)"
   ]
  },
  {
   "cell_type": "code",
   "execution_count": 358,
   "id": "f534491a",
   "metadata": {},
   "outputs": [],
   "source": [
    "obj_1 = Library()"
   ]
  },
  {
   "cell_type": "code",
   "execution_count": 359,
   "id": "abf16a8c",
   "metadata": {},
   "outputs": [],
   "source": [
    "obj_1.add_book('Harry Potter','Human Science', 'sociology')"
   ]
  },
  {
   "cell_type": "code",
   "execution_count": 360,
   "id": "66487938",
   "metadata": {},
   "outputs": [
    {
     "name": "stdout",
     "output_type": "stream",
     "text": [
      "The books we have made available in our library are:\n",
      "\n",
      "Harry Potter\n",
      "Human Science\n",
      "sociology\n"
     ]
    }
   ],
   "source": [
    "obj_1.display_books()"
   ]
  },
  {
   "cell_type": "code",
   "execution_count": 361,
   "id": "f9e202c2",
   "metadata": {},
   "outputs": [
    {
     "name": "stdout",
     "output_type": "stream",
     "text": [
      "You have now borrowed \"Human Science\" \n"
     ]
    }
   ],
   "source": [
    "obj_1.lend_book('Human Science')"
   ]
  },
  {
   "cell_type": "code",
   "execution_count": null,
   "id": "61f9f7bf",
   "metadata": {},
   "outputs": [],
   "source": []
  },
  {
   "cell_type": "markdown",
   "id": "daad9c56",
   "metadata": {},
   "source": [
    "## Problem 5: Product Inventory Create classes representing a product and an inventory system. Implement methods to add products to the inventory, update product quantity, and display available products."
   ]
  },
  {
   "cell_type": "code",
   "execution_count": 49,
   "id": "1d0bf542",
   "metadata": {},
   "outputs": [],
   "source": [
    "class product:\n",
    "    \n",
    "    def __init__(self,name,quantity,price):\n",
    "        self.product_name = name\n",
    "        self.product_quantity = quantity\n",
    "        self.product_price = price\n",
    "        \n",
    "class inventory(product):\n",
    "    \n",
    "    def __init__(self):\n",
    "        self._inventory_list = []\n",
    "        \n",
    "    def add_product(self,product1):\n",
    "        self._inventory_list.append(product1)\n",
    "        \n",
    "    def update_product_quantity(self, product_name, quantity):\n",
    "        if product_name in self._inventory_list:\n",
    "            product_quantity =+ quantity\n",
    "            \n",
    "            \n",
    "            \n",
    "        \n",
    "    def display_product(self):\n",
    "        for i in self._inventory_list:\n",
    "            print(i)\n",
    "        \n",
    "    \n",
    "    "
   ]
  },
  {
   "cell_type": "code",
   "execution_count": 38,
   "id": "8fb96f88",
   "metadata": {},
   "outputs": [],
   "source": [
    "inventory_1 = inventory()"
   ]
  },
  {
   "cell_type": "code",
   "execution_count": 44,
   "id": "f8bc6e2a",
   "metadata": {},
   "outputs": [],
   "source": [
    "product_1 = product('Mobile',100,'2500')\n",
    "product_2 = product('Microwave',25,'4000')\n",
    "product_3 = product('Keyboard',50,'500')"
   ]
  },
  {
   "cell_type": "code",
   "execution_count": 45,
   "id": "4719c755",
   "metadata": {},
   "outputs": [],
   "source": [
    "product_1.update_quantity(20)"
   ]
  },
  {
   "cell_type": "code",
   "execution_count": 46,
   "id": "b1e25335",
   "metadata": {},
   "outputs": [],
   "source": [
    "inventory_1.add_product('Charger')\n",
    "inventory_1.add_product('Headphones')"
   ]
  },
  {
   "cell_type": "code",
   "execution_count": 47,
   "id": "881e0fa3",
   "metadata": {},
   "outputs": [],
   "source": [
    "inventory_1.update_product_quantity('Charger', 30)"
   ]
  },
  {
   "cell_type": "code",
   "execution_count": 48,
   "id": "c4cea588",
   "metadata": {},
   "outputs": [
    {
     "name": "stdout",
     "output_type": "stream",
     "text": [
      "Charger\n",
      "Headphones\n",
      "Charger\n",
      "Headphones\n"
     ]
    }
   ],
   "source": [
    "inventory_1.display_product()"
   ]
  },
  {
   "cell_type": "code",
   "execution_count": null,
   "id": "fe9fb68e",
   "metadata": {},
   "outputs": [],
   "source": []
  },
  {
   "cell_type": "markdown",
   "id": "6c3c74da",
   "metadata": {},
   "source": [
    "## Problem 6: Shape Calculation Create a class representing a shape with attributes like length, width, and height. Implement methods to calculate the area and perimeter of the shape."
   ]
  },
  {
   "cell_type": "code",
   "execution_count": 82,
   "id": "cafe3d4a",
   "metadata": {},
   "outputs": [],
   "source": [
    "class shape:\n",
    "    \n",
    "    def __init__(self,length,width,height):\n",
    "        self.length = length\n",
    "        self.width = width\n",
    "        self.height = height\n",
    "        \n",
    "    def calculate_area(self, shape_name):\n",
    "        if shape_name == 'rectangle':\n",
    "            print('The area of rectangle is : ', self.length * self.width)\n",
    "        else:\n",
    "            print('The area cannot be calculated')\n",
    "            \n",
    "            \n",
    "            \n",
    "    def calculate_perimeter(self, shape_name):\n",
    "        if shape_name == 'rectangle':\n",
    "            print('The area of rectangle is : ', (2*(self.length * self.width)))\n",
    "        \n",
    "                \n",
    "        \n",
    "        "
   ]
  },
  {
   "cell_type": "code",
   "execution_count": 84,
   "id": "63bd21d5",
   "metadata": {},
   "outputs": [],
   "source": [
    "shape_1 = shape(5, 4, 3)\n"
   ]
  },
  {
   "cell_type": "code",
   "execution_count": 85,
   "id": "3567c5e4",
   "metadata": {},
   "outputs": [
    {
     "name": "stdout",
     "output_type": "stream",
     "text": [
      "The area of rectangle is :  20\n"
     ]
    }
   ],
   "source": [
    "shape_1.calculate_area('rectangle')"
   ]
  },
  {
   "cell_type": "code",
   "execution_count": 86,
   "id": "7078183e",
   "metadata": {},
   "outputs": [
    {
     "name": "stdout",
     "output_type": "stream",
     "text": [
      "The area of rectangle is :  40\n"
     ]
    }
   ],
   "source": [
    "shape_1.calculate_perimeter('rectangle')"
   ]
  },
  {
   "cell_type": "code",
   "execution_count": null,
   "id": "6de53e71",
   "metadata": {},
   "outputs": [],
   "source": []
  },
  {
   "cell_type": "markdown",
   "id": "7029356f",
   "metadata": {},
   "source": [
    "## Problem 7: Student Management Create a class representing a student with attributes like student ID, name, and grades. Implement methods to calculate the average grade and display student details."
   ]
  },
  {
   "cell_type": "code",
   "execution_count": 66,
   "id": "fb3d22da",
   "metadata": {},
   "outputs": [],
   "source": [
    "class student:\n",
    "    \n",
    "    def __init__(self,id,name,grades):\n",
    "        self.student_id = id\n",
    "        self.student_name = name\n",
    "        self.student_grades = grades\n",
    "        \n",
    "    def average_percentage(self):\n",
    "        Total_Grade = sum(self.student_grades)/len(self.student_grades)\n",
    "        return Total_Grade\n",
    "        \n",
    "    def display_student_details(self):\n",
    "        print(\"The details of student are as follows : \")\n",
    "        print('Student ID : ', self.student_id)\n",
    "        print('Student Name : ', self.student_name)\n",
    "        print('Student Grade : ', self.average_percentage())\n",
    "        \n",
    "    def Grade(self):\n",
    "        if self.average_percentage() >= 60 and self.average_percentage() < 100:\n",
    "            print('Student got grade A')\n",
    "        elif self.average_percentage() >= 40 and self.average_percentage() < 60:\n",
    "            print('Student got grade B')\n",
    "        elif self.average_percentage() >= 0 and self.average_percentage() < 40:\n",
    "            print('Student got grade C')\n",
    "        else:\n",
    "            print('Data is not sufficient to show grades')\n",
    "\n",
    "        \n"
   ]
  },
  {
   "cell_type": "code",
   "execution_count": 67,
   "id": "65aed2b6",
   "metadata": {},
   "outputs": [],
   "source": [
    "student_1 = student('G101','Riya',[88,90,67,78,60])\n",
    "\n",
    "student_2 = student('G102','Mohit',[50,30,47,38,60])"
   ]
  },
  {
   "cell_type": "code",
   "execution_count": 54,
   "id": "5c914ad2",
   "metadata": {},
   "outputs": [
    {
     "data": {
      "text/plain": [
       "76.6"
      ]
     },
     "execution_count": 54,
     "metadata": {},
     "output_type": "execute_result"
    }
   ],
   "source": [
    "student_1.average_percentage()"
   ]
  },
  {
   "cell_type": "code",
   "execution_count": 68,
   "id": "640c4b3b",
   "metadata": {},
   "outputs": [
    {
     "name": "stdout",
     "output_type": "stream",
     "text": [
      "The details of student are as follows : \n",
      "Student ID :  G101\n",
      "Student Name :  Riya\n",
      "Student Grade :  76.6\n"
     ]
    }
   ],
   "source": [
    "student_1.display_student_details()"
   ]
  },
  {
   "cell_type": "code",
   "execution_count": 69,
   "id": "1f201eb7",
   "metadata": {},
   "outputs": [
    {
     "name": "stdout",
     "output_type": "stream",
     "text": [
      "Student got grade A\n"
     ]
    }
   ],
   "source": [
    "student_1.Grade()"
   ]
  },
  {
   "cell_type": "code",
   "execution_count": 70,
   "id": "4675a8a5",
   "metadata": {},
   "outputs": [
    {
     "data": {
      "text/plain": [
       "45.0"
      ]
     },
     "execution_count": 70,
     "metadata": {},
     "output_type": "execute_result"
    }
   ],
   "source": [
    "student_2.average_percentage()"
   ]
  },
  {
   "cell_type": "code",
   "execution_count": 72,
   "id": "85a499da",
   "metadata": {},
   "outputs": [
    {
     "name": "stdout",
     "output_type": "stream",
     "text": [
      "The details of student are as follows : \n",
      "Student ID :  G102\n",
      "Student Name :  Mohit\n",
      "Student Grade :  45.0\n"
     ]
    }
   ],
   "source": [
    "student_2.display_student_details()"
   ]
  },
  {
   "cell_type": "code",
   "execution_count": 74,
   "id": "035fd0b5",
   "metadata": {},
   "outputs": [
    {
     "name": "stdout",
     "output_type": "stream",
     "text": [
      "Student got grade B\n"
     ]
    }
   ],
   "source": [
    "student_2.Grade()"
   ]
  },
  {
   "cell_type": "code",
   "execution_count": null,
   "id": "d4f315b2",
   "metadata": {},
   "outputs": [],
   "source": []
  },
  {
   "cell_type": "markdown",
   "id": "9d51a7b4",
   "metadata": {},
   "source": [
    "## Problem 8: Email Management Create a class representing an email with attributes like sender, recipient, and subject. Implement methods to send an email and display email details."
   ]
  },
  {
   "cell_type": "code",
   "execution_count": 93,
   "id": "0c78d695",
   "metadata": {},
   "outputs": [],
   "source": [
    "class email_management:\n",
    "    \n",
    "    def __init__(self,sender,recipient,subject):\n",
    "        self.sender = sender\n",
    "        self.recipient = recipient\n",
    "        self.subject = subject\n",
    "        \n",
    "    def sending_email(self):\n",
    "        print('The email is send from ' + self.sender + ' to ' + self.recipient )\n",
    "        print('Subject : ', self.subject)\n",
    "        print('Email sent succesfully')\n",
    "        \n",
    "    def display_email_details(self):\n",
    "        print('Sender Name : ', self.sender)\n",
    "        print('Recipient Name : ', self.recipient)\n",
    "        print('Subject : ', self.subject)\n",
    "        \n",
    "        \n",
    "        "
   ]
  },
  {
   "cell_type": "code",
   "execution_count": 94,
   "id": "ec236bfd",
   "metadata": {},
   "outputs": [],
   "source": [
    "obj_1 = email_management('riyaodehariya@gmail.com', 'pwskill@gmail.com', 'Assignment Completion')"
   ]
  },
  {
   "cell_type": "code",
   "execution_count": 98,
   "id": "625fdab6",
   "metadata": {},
   "outputs": [
    {
     "name": "stdout",
     "output_type": "stream",
     "text": [
      "The email is send from riyaodehariya@gmail.com to pwskill@gmail.com\n",
      "Subject :  Assignment Completion\n",
      "Email sent succesfully\n"
     ]
    }
   ],
   "source": [
    "obj_1.sending_email()\n"
   ]
  },
  {
   "cell_type": "code",
   "execution_count": 96,
   "id": "9cfc65c5",
   "metadata": {},
   "outputs": [
    {
     "name": "stdout",
     "output_type": "stream",
     "text": [
      "Sender Name :  riyaodehariya@gmail.com\n",
      "Recipient Name :  pwskill@gmail.com\n",
      "Subject :  Assignment Completion\n"
     ]
    }
   ],
   "source": [
    "obj_1.display_email_details()"
   ]
  },
  {
   "cell_type": "code",
   "execution_count": null,
   "id": "37864dc5",
   "metadata": {},
   "outputs": [],
   "source": []
  },
  {
   "cell_type": "markdown",
   "id": "88d7482b",
   "metadata": {},
   "source": [
    "## Problem 9: Social Media Profile Create a class representing a social media profile with attributes like username and posts. Implement methods to add posts, display posts, and search for posts by keyword."
   ]
  },
  {
   "cell_type": "code",
   "execution_count": 198,
   "id": "2bb7121c",
   "metadata": {},
   "outputs": [],
   "source": [
    "class social_media_profile:\n",
    "    \n",
    "    def __init__(self,username):\n",
    "        self.username = username\n",
    "        self.posts = []\n",
    "        \n",
    "    def add_post(self, post_content):\n",
    "        post_contents = self.posts.append(post_content)\n",
    "        return post_contents\n",
    "    \n",
    "    def display_posts(self):\n",
    "        if not self.posts:\n",
    "            print(\"No posts available.\")\n",
    "            return\n",
    "        print(f\"Posts by {self.username}:\")\n",
    "        for count, ele in enumerate(self.posts, start = 1):          #enumerate allows you to keep track of the number of iterations (loops) in a loop\n",
    "            print(count, ele)\n",
    "            \n",
    "    def search_posts_by_keyword(self, keyword):\n",
    "        matching_posts = [post for post in self.posts if keyword in post]\n",
    "        if not matching_posts:\n",
    "            print(\"No posts found matching the keyword.\")\n",
    "            return\n",
    "        print(f\"Posts containing keyword '{keyword}':\")\n",
    "        for index, post in enumerate(matching_posts, start=1):\n",
    "            print(f\"Post {index}: {post}\")\n",
    "\n",
    "    \n",
    "    \n",
    "        "
   ]
  },
  {
   "cell_type": "code",
   "execution_count": 192,
   "id": "20b90b39",
   "metadata": {},
   "outputs": [],
   "source": [
    "profile_1 = social_media_profile('smita_patil_2024')"
   ]
  },
  {
   "cell_type": "code",
   "execution_count": 193,
   "id": "2462966b",
   "metadata": {},
   "outputs": [],
   "source": [
    "profile_1.add_post('Enjoying with Friends')"
   ]
  },
  {
   "cell_type": "code",
   "execution_count": 194,
   "id": "ffda6275",
   "metadata": {},
   "outputs": [],
   "source": [
    "profile_1.add_post('Nature and its beauty')"
   ]
  },
  {
   "cell_type": "code",
   "execution_count": 199,
   "id": "a08b19e1",
   "metadata": {},
   "outputs": [],
   "source": [
    "profile_1.add_post('Nature feels amazing')"
   ]
  },
  {
   "cell_type": "code",
   "execution_count": 200,
   "id": "83774edd",
   "metadata": {},
   "outputs": [
    {
     "data": {
      "text/plain": [
       "['Enjoying with Friends', 'Nature and its beauty', 'Nature feels amazing']"
      ]
     },
     "execution_count": 200,
     "metadata": {},
     "output_type": "execute_result"
    }
   ],
   "source": [
    "profile_1.posts"
   ]
  },
  {
   "cell_type": "code",
   "execution_count": 201,
   "id": "02e37bbd",
   "metadata": {},
   "outputs": [
    {
     "name": "stdout",
     "output_type": "stream",
     "text": [
      "Posts by smita_patil_2024:\n",
      "1 Enjoying with Friends\n",
      "2 Nature and its beauty\n",
      "3 Nature feels amazing\n"
     ]
    }
   ],
   "source": [
    "profile_1.display_posts()"
   ]
  },
  {
   "cell_type": "code",
   "execution_count": 202,
   "id": "1035ff21",
   "metadata": {},
   "outputs": [
    {
     "name": "stdout",
     "output_type": "stream",
     "text": [
      "Posts containing keyword 'Nature':\n",
      "Post 1: Nature and its beauty\n",
      "Post 2: Nature feels amazing\n"
     ]
    }
   ],
   "source": [
    "profile_1.search_posts_by_keyword('Nature')"
   ]
  },
  {
   "cell_type": "markdown",
   "id": "1259b155",
   "metadata": {},
   "source": [
    "## Problem 10: ToDo List Create a class representing a ToDo list with attributes like tasks and due dates. Implement methods to add tasks, mark tasks as completed, and display pending tasks.\n",
    "\n",
    "​"
   ]
  },
  {
   "cell_type": "code",
   "execution_count": null,
   "id": "efec9d1c",
   "metadata": {},
   "outputs": [],
   "source": [
    "class To_Do_List:\n",
    "    \n",
    "    def __init__(self,task,due_date,):\n",
    "        self.task = [task]\n",
    "        self.due_date = due_date\n",
    "        \n",
    "    def add_task(self,task_content):\n",
    "        tasks = self.task.append(task_content)\n",
    "        return tasks\n",
    "    \n",
    "    def "
   ]
  },
  {
   "cell_type": "code",
   "execution_count": 219,
   "id": "9aea6730",
   "metadata": {},
   "outputs": [],
   "source": [
    "class To_Do_List:\n",
    "    def __init__(self):\n",
    "        self.tasks = {}\n",
    "\n",
    "    def add_task(self, task_name, due_date):\n",
    "        self.tasks[task_name] = due_date          #To create dictionary i.e key value pair\n",
    "\n",
    "    def mark_task_completed(self, task_name):\n",
    "        if task_name in self.tasks:\n",
    "            del self.tasks[task_name]\n",
    "            print(f\"Task '{task_name}' marked as completed.\")\n",
    "        else:\n",
    "            print(f\"Task '{task_name}' not found in the ToDo list.\")\n",
    "\n",
    "    def display_pending_tasks(self):\n",
    "        if not self.tasks:\n",
    "            print(\"No pending tasks.\")\n",
    "        else:\n",
    "            print(\"Pending tasks:\")\n",
    "            for task, due_date in self.tasks.items():\n",
    "                print(f\"- {task} (Due: {due_date})\")\n"
   ]
  },
  {
   "cell_type": "code",
   "execution_count": 207,
   "id": "3e28af51",
   "metadata": {},
   "outputs": [],
   "source": [
    "task_1 = To_Do_List()"
   ]
  },
  {
   "cell_type": "code",
   "execution_count": 220,
   "id": "55686e8a",
   "metadata": {},
   "outputs": [],
   "source": [
    "task_1.add_task('sending files','22 feb')"
   ]
  },
  {
   "cell_type": "code",
   "execution_count": 221,
   "id": "37b6d563",
   "metadata": {},
   "outputs": [],
   "source": [
    "task_1.add_task('creating dashboard','25 feb')"
   ]
  },
  {
   "cell_type": "code",
   "execution_count": 222,
   "id": "683d7fd0",
   "metadata": {},
   "outputs": [
    {
     "name": "stdout",
     "output_type": "stream",
     "text": [
      "Task 'creating dashboard' marked as completed.\n"
     ]
    }
   ],
   "source": [
    "task_1.mark_task_completed('creating dashboard')"
   ]
  },
  {
   "cell_type": "code",
   "execution_count": 223,
   "id": "1d9be383",
   "metadata": {},
   "outputs": [
    {
     "name": "stdout",
     "output_type": "stream",
     "text": [
      "Pending tasks:\n",
      "- sending files (Due: 22 feb)\n"
     ]
    }
   ],
   "source": [
    "task_1.display_pending_tasks()"
   ]
  },
  {
   "cell_type": "code",
   "execution_count": null,
   "id": "da992271",
   "metadata": {},
   "outputs": [],
   "source": []
  },
  {
   "cell_type": "code",
   "execution_count": null,
   "id": "bb971d77",
   "metadata": {},
   "outputs": [],
   "source": []
  }
 ],
 "metadata": {
  "kernelspec": {
   "display_name": "Python 3 (ipykernel)",
   "language": "python",
   "name": "python3"
  },
  "language_info": {
   "codemirror_mode": {
    "name": "ipython",
    "version": 3
   },
   "file_extension": ".py",
   "mimetype": "text/x-python",
   "name": "python",
   "nbconvert_exporter": "python",
   "pygments_lexer": "ipython3",
   "version": "3.9.13"
  }
 },
 "nbformat": 4,
 "nbformat_minor": 5
}
